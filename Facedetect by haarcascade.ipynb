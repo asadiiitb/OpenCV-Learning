{
 "cells": [
  {
   "cell_type": "markdown",
   "metadata": {},
   "source": [
    "For face recognition, 2 steps are required\n",
    "1) Face Detection: presence of face in image\n",
    "2) Face Identification: Who's face is it\n",
    "OpenCV already comes with a lot of pre trained classifiers for detecting a face :\n",
    "Essential 2 are\n",
    "1) Haarcascades \n",
    "2) Local Binary Patterns (More advanced then Harcascade, They are more noise prone then Harcascade)"
   ]
  },
  {
   "cell_type": "code",
   "execution_count": 1,
   "metadata": {},
   "outputs": [],
   "source": [
    "import cv2 as cv\n",
    "import numpy as np"
   ]
  },
  {
   "cell_type": "code",
   "execution_count": 2,
   "metadata": {},
   "outputs": [
    {
     "name": "stdout",
     "output_type": "stream",
     "text": [
      "Number of faces in image = 8\n"
     ]
    },
    {
     "data": {
      "text/plain": [
       "-1"
      ]
     },
     "execution_count": 2,
     "metadata": {},
     "output_type": "execute_result"
    }
   ],
   "source": [
    "img = cv.imread('Resources/Photos/ss2.png')\n",
    "#cv.imshow('Person', img)\n",
    "# Reason behin gray scale is we dont consider the skintone\n",
    "gray = cv.cvtColor(img, cv.COLOR_BGR2GRAY)\n",
    "cv.imshow('Gray', gray)\n",
    "\n",
    "# HaarCascade classifier creation\n",
    "haar_cascade = cv.CascadeClassifier('haar_face.xml')\n",
    "\n",
    "# This will have the coordinates of faces \n",
    "# format: haar_cascade.detectMultiScale(img on which face to be detected, scale factor, \n",
    "#            minNeighbours : parameters the number of neighbours a rectangle should call to have face)\n",
    "# This will detect the faces using the variables and returns the coordinates of rectangles where face  as a list\n",
    "face_rect = haar_cascade.detectMultiScale(gray, scaleFactor = 1.1, minNeighbors = 1)\n",
    "print(f'Number of faces in image = {len(face_rect)}')\n",
    "\n",
    "# make rectangle on all faces\n",
    "for (x,y,w,h) in face_rect:\n",
    "    cv.rectangle(img, (x,y), (x+w,y+h), (0,255,0), thickness = 2)\n",
    "cv.imshow('Face Detected Rectangle', img)\n",
    "\n",
    "cv.waitKey(0)"
   ]
  },
  {
   "cell_type": "code",
   "execution_count": 3,
   "metadata": {},
   "outputs": [],
   "source": [
    "# Try face detection on web cam\n",
    "capture = cv.VideoCapture(0)\n",
    "\n",
    "while True:\n",
    "    isTrue, frame = capture.read()\n",
    "    \n",
    "    cv.imshow('WebCam Video', frame)\n",
    "    gray = cv.cvtColor(frame, cv.COLOR_BGR2GRAY)\n",
    "    face_rect = haar_cascade.detectMultiScale(gray, scaleFactor = 1.1, minNeighbors = 1)\n",
    "    #print(f'Number of faces in image = {len(face_rect)}')\n",
    "    # make rectangle on all faces\n",
    "    for (x,y,w,h) in face_rect:\n",
    "        cv.rectangle(frame, (x,y), (x+w,y+h), (0,255,0), thickness = 2)\n",
    "    \n",
    "    cv.imshow('WebCam Face Detected', frame)\n",
    "    if cv.waitKey(20) & 0xFF == ord('d'):\n",
    "        break;\n",
    "\n",
    "\n",
    "capture.release()\n",
    "cv.destroyAllWindows()"
   ]
  },
  {
   "cell_type": "code",
   "execution_count": null,
   "metadata": {},
   "outputs": [],
   "source": []
  }
 ],
 "metadata": {
  "kernelspec": {
   "display_name": "Python 3",
   "language": "python",
   "name": "python3"
  },
  "language_info": {
   "codemirror_mode": {
    "name": "ipython",
    "version": 3
   },
   "file_extension": ".py",
   "mimetype": "text/x-python",
   "name": "python",
   "nbconvert_exporter": "python",
   "pygments_lexer": "ipython3",
   "version": "3.7.9"
  }
 },
 "nbformat": 4,
 "nbformat_minor": 4
}
