{
 "cells": [
  {
   "cell_type": "code",
   "execution_count": 19,
   "metadata": {},
   "outputs": [],
   "source": [
    "import cv2 as cv\n",
    "import numpy as np"
   ]
  },
  {
   "cell_type": "code",
   "execution_count": 20,
   "metadata": {},
   "outputs": [
    {
     "data": {
      "text/plain": [
       "-1"
      ]
     },
     "execution_count": 20,
     "metadata": {},
     "output_type": "execute_result"
    }
   ],
   "source": [
    "# TO draw on qn imqge we will use a Blank Image\n",
    "# create blank image\n",
    "# uint8 in datatype of image\n",
    "blank = np.zeros((500,500,3), dtype = 'uint8')\n",
    "#cv.imshow('Blank', blank )\n",
    "cv.waitKey(0)\n"
   ]
  },
  {
   "cell_type": "code",
   "execution_count": 3,
   "metadata": {},
   "outputs": [],
   "source": [
    "#Complete draw\n",
    "#blank[:] = 0, 0, 255 # Blue, Green, Red\n",
    "#cv.imshow('Red', blank)\n",
    "#cv.waitKey(0)"
   ]
  },
  {
   "cell_type": "code",
   "execution_count": 4,
   "metadata": {},
   "outputs": [],
   "source": [
    "# Draw on some portion\n",
    "#blank[100:350, 200:400] = 0, 0,200\n",
    "#cv.imshow('Portion', blank)\n",
    "#cv.waitKey(0)"
   ]
  },
  {
   "cell_type": "code",
   "execution_count": 5,
   "metadata": {},
   "outputs": [
    {
     "data": {
      "text/plain": [
       "-1"
      ]
     },
     "execution_count": 5,
     "metadata": {},
     "output_type": "execute_result"
    }
   ],
   "source": [
    "# Draw a rectangle\n",
    "# To make a rectangle we will use cv2.rectangle method\n",
    "# Format cv.rectangle( image variable, starting point means top leftcorner, ending point bottom right corner, \n",
    "#                      color of rectangle, thickness of border)\n",
    "# To fill the whole rectangle area we put thickness = cv.FILLED or -1\n",
    "cv.rectangle(blank, (400,400), (200, 200), (0,250,0), thickness = cv.FILLED)\n",
    "cv.imshow('Rectangle', blank)\n",
    "cv.waitKey(0)"
   ]
  },
  {
   "cell_type": "code",
   "execution_count": 6,
   "metadata": {},
   "outputs": [
    {
     "data": {
      "text/plain": [
       "-1"
      ]
     },
     "execution_count": 6,
     "metadata": {},
     "output_type": "execute_result"
    }
   ],
   "source": [
    "# Draw a Circle\n",
    "cv.circle(blank, (blank.shape[1]//2, blank.shape[0]//2), 30, (0,0,250), thickness = cv.FILLED)\n",
    "cv.imshow('Circle', blank)\n",
    "cv.waitKey(0)"
   ]
  },
  {
   "cell_type": "code",
   "execution_count": 7,
   "metadata": {},
   "outputs": [
    {
     "data": {
      "text/plain": [
       "-1"
      ]
     },
     "execution_count": 7,
     "metadata": {},
     "output_type": "execute_result"
    }
   ],
   "source": [
    "# Draw a Line\n",
    "cv.line(blank, (blank.shape[1]//2 - 30, blank.shape[0]//2 -30), (blank.shape[1]//2, blank.shape[0]//2), (250,250,250), thickness = 2)\n",
    "cv.imshow('Line', blank)\n",
    "cv.waitKey(0)"
   ]
  },
  {
   "cell_type": "code",
   "execution_count": 21,
   "metadata": {},
   "outputs": [
    {
     "data": {
      "text/plain": [
       "-1"
      ]
     },
     "execution_count": 21,
     "metadata": {},
     "output_type": "execute_result"
    }
   ],
   "source": [
    "# Write Text on an image\n",
    "cv.putText(blank, 'Aur Kaise Ho??', (90, 230), cv.FONT_HERSHEY_TRIPLEX, 1.0, (0,255,0), thickness = 2)\n",
    "cv.imshow('Text', blank)\n",
    "cv.waitKey(0)"
   ]
  },
  {
   "cell_type": "code",
   "execution_count": 17,
   "metadata": {},
   "outputs": [
    {
     "data": {
      "text/plain": [
       "-1"
      ]
     },
     "execution_count": 17,
     "metadata": {},
     "output_type": "execute_result"
    }
   ],
   "source": [
    "img = cv.imread('Resources\\Photos\\cat.jpg')\n",
    "cv.imshow('Show', img)\n",
    "\n",
    "cv.waitKey(0)"
   ]
  },
  {
   "cell_type": "code",
   "execution_count": null,
   "metadata": {},
   "outputs": [],
   "source": []
  },
  {
   "cell_type": "code",
   "execution_count": null,
   "metadata": {},
   "outputs": [],
   "source": []
  }
 ],
 "metadata": {
  "kernelspec": {
   "display_name": "Python 3",
   "language": "python",
   "name": "python3"
  },
  "language_info": {
   "codemirror_mode": {
    "name": "ipython",
    "version": 3
   },
   "file_extension": ".py",
   "mimetype": "text/x-python",
   "name": "python",
   "nbconvert_exporter": "python",
   "pygments_lexer": "ipython3",
   "version": "3.7.9"
  }
 },
 "nbformat": 4,
 "nbformat_minor": 4
}
