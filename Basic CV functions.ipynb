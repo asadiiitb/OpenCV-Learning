{
 "cells": [
  {
   "cell_type": "code",
   "execution_count": 2,
   "metadata": {},
   "outputs": [],
   "source": [
    "import cv2 as cv"
   ]
  },
  {
   "cell_type": "code",
   "execution_count": 6,
   "metadata": {},
   "outputs": [
    {
     "data": {
      "text/plain": [
       "-1"
      ]
     },
     "execution_count": 6,
     "metadata": {},
     "output_type": "execute_result"
    }
   ],
   "source": [
    "img = cv.imread('Resources\\Photos\\park.jpg')\n",
    "cv.imshow('park', img)\n",
    "\n",
    "# COnverting from BGR to GRay\n",
    "# Such that from colors to intencity distribution\n",
    "# TO convert we will use cv2.cvtColor\n",
    "# format: cvtColor(image variable, then conversion color)\n",
    "gray = cv.cvtColor(img, cv.COLOR_BGR2GRAY)\n",
    "#cv.imshow('Gray', gray)\n",
    "\n",
    "# Blur the image\n",
    "# Removes some of the noise from image \n",
    "# Some of noise can be reduced by slight blue\n",
    "# To blur there are various techniques we will use Gaussian Blue\n",
    "# Format: cv2.GaussianBlue( source image, kerner 2 by 2 tupleit has to be odd number,  cv2.BORDER_DEFAULT)\n",
    "# To increase blurrness increase kernelSIze\n",
    "blur = cv.GaussianBlur(img, (3,3), cv.BORDER_DEFAULT)\n",
    "#cv.imshow('Blur', blur)\n",
    "\n",
    "\n",
    "# EDGE Cascade\n",
    "# We will use canny edge cascade\n",
    "# passs image and two thresholds\n",
    "canny = cv.Canny(blur, 125, 175)\n",
    "#cv.imshow('Image EDges', canny)\n",
    "\n",
    "\n",
    "\n",
    "#Dialating the Image\n",
    "dilate = cv.dilate(canny, (7,7), iterations = 3)\n",
    "#cv.imshow('Dilated Image', dilate)\n",
    "\n",
    "#Erode: image -> dialate\n",
    "#       dialate ->(erode) image\n",
    "\n",
    "erode = cv.erode(dilate, (7,7), iterations = 3)\n",
    "#cv.imshow('erode', erode)\n",
    "\n",
    "# Resize image and video\n",
    "# format cv.resize(img, target dimension, interpolation)\n",
    "# this will not keep aspect ration\n",
    "# for enlarging use INTER_LINEAR or INTER_CUBIC,\n",
    "# cubic is slow but gives good result\n",
    "resize = cv.resize(img, (800, 800), interpolation = cv.INTER_AREA)\n",
    "cv.imshow('Resize', resize)\n",
    "\n",
    "resizel = cv.resize(img, (800, 800), interpolation = cv.INTER_LINEAR)\n",
    "cv.imshow('ResizeL', resizel)\n",
    "\n",
    "resizec = cv.resize(img, (800, 800), interpolation = cv.INTER_CUBIC)\n",
    "cv.imshow('ResizeC', resizec)\n",
    "\n",
    "# croping\n",
    "# Its done by considering the image as an arrray and displaying suitable part\n",
    "crop = img[100:300, 200:400]\n",
    "cv.imshow('Crop', crop)\n",
    "\n",
    "\n",
    "cv.waitKey(0)"
   ]
  },
  {
   "cell_type": "code",
   "execution_count": null,
   "metadata": {},
   "outputs": [],
   "source": [
    "\n",
    "cv.waitKey(0)"
   ]
  },
  {
   "cell_type": "code",
   "execution_count": null,
   "metadata": {},
   "outputs": [],
   "source": []
  },
  {
   "cell_type": "code",
   "execution_count": null,
   "metadata": {},
   "outputs": [],
   "source": []
  }
 ],
 "metadata": {
  "kernelspec": {
   "display_name": "Python 3",
   "language": "python",
   "name": "python3"
  },
  "language_info": {
   "codemirror_mode": {
    "name": "ipython",
    "version": 3
   },
   "file_extension": ".py",
   "mimetype": "text/x-python",
   "name": "python",
   "nbconvert_exporter": "python",
   "pygments_lexer": "ipython3",
   "version": "3.7.9"
  }
 },
 "nbformat": 4,
 "nbformat_minor": 4
}
