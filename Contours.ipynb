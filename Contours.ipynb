{
 "cells": [
  {
   "cell_type": "code",
   "execution_count": 1,
   "metadata": {},
   "outputs": [],
   "source": [
    "# TRy contours\n",
    "import numpy as np\n",
    "import cv2 as cv"
   ]
  },
  {
   "cell_type": "code",
   "execution_count": 2,
   "metadata": {},
   "outputs": [
    {
     "name": "stdout",
     "output_type": "stream",
     "text": [
      "380 contours found in img\n"
     ]
    },
    {
     "data": {
      "text/plain": [
       "-1"
      ]
     },
     "execution_count": 2,
     "metadata": {},
     "output_type": "execute_result"
    }
   ],
   "source": [
    "img = cv.imread('Resources\\Photos\\cats.jpg')\n",
    "cv.imshow('Cats', img)\n",
    "\n",
    "# Gray \n",
    "gray = cv.cvtColor(img, cv.COLOR_BGR2GRAY)\n",
    "cv.imshow('Gray Cats', gray)\n",
    "\n",
    "# Blur\n",
    "blur = cv.GaussianBlur(gray, (5,5), cv.BORDER_DEFAULT)\n",
    "cv.imshow('Blur image', blur)\n",
    "\n",
    "# Edges by canny edge detection\n",
    "canny = cv.Canny(blur, 125, 175)\n",
    "cv.imshow('Canny Edges', canny)\n",
    "\n",
    "# Contous\n",
    "# format cv.findContours(Takes Canny image or edge image, Mode in which to find contour, Contour approximation method)\n",
    "# Mode: cv.RETR_TREE -> for all heirarchical contours, cv.RETR_LIST -> For list of all contours\n",
    "# cv.RETR_EXTERNAL -> for all external contours\n",
    "# Return : This will return 2 vars, first contours which is python list of coordinates, \n",
    "#          heirarchies of contours likes shape trinagle inside sqare,\n",
    "contours, heirarchies = cv.findContours(canny, cv.RETR_LIST, cv.CHAIN_APPROX_SIMPLE)\n",
    "print(f'{len(contours)} contours found in img')\n",
    "\n",
    "\n",
    "cv.waitKey(0)"
   ]
  },
  {
   "cell_type": "code",
   "execution_count": 3,
   "metadata": {},
   "outputs": [
    {
     "name": "stdout",
     "output_type": "stream",
     "text": [
      "(428, 640, 3)\n",
      "839 contours found in img\n"
     ]
    },
    {
     "data": {
      "text/plain": [
       "-1"
      ]
     },
     "execution_count": 3,
     "metadata": {},
     "output_type": "execute_result"
    }
   ],
   "source": [
    "# Another way of finding Contours instead of Canny edge detector we will use \n",
    "# Threshold function\n",
    "img = cv.imread('Resources\\Photos\\cats.jpg')\n",
    "cv.imshow('Cats', img)\n",
    "print(img.shape)\n",
    "# blank\n",
    "blank = np.zeros(img.shape, dtype = 'uint8')\n",
    "cv.imshow('Blank', blank)\n",
    "# Gray \n",
    "gray = cv.cvtColor(img, cv.COLOR_BGR2GRAY)\n",
    "cv.imshow('Gray Cats', gray)\n",
    "\n",
    "# Blur\n",
    "#blur = cv.GaussianBlur(gray, (5,5), cv.BORDER_DEFAULT)\n",
    "#cv.imshow('Blur image', blur)\n",
    "\n",
    "# Edges by canny edge detection\n",
    "canny = cv.Canny(img, 125, 175)\n",
    "cv.imshow('Canny Edges', canny)\n",
    "\n",
    "# Threshold tries to binaries the image, it can be seen as \n",
    "# If a particular pixel is less then first threshold it is replced by black '0'\n",
    "# If it is more then threshold, then it is replaced by white '255'(2nd threshold)\n",
    "# Type: cv.THRESH_BINARY -> binaries the image\n",
    "ret, thresh = cv.threshold(gray, 125, 255, cv.THRESH_BINARY)\n",
    "cv.imshow('Thresh image', thresh)\n",
    "\n",
    "# Contous\n",
    "# format cv.findContours(Takes Canny image or edge image, Mode in which to find contour, Contour approximation method)\n",
    "# Mode: cv.RETR_TREE -> for all heirarchical contours, cv.RETR_LIST -> For list of all contours\n",
    "# cv.RETR_EXTERNAL -> for all external contours\n",
    "# Return : This will return 2 vars, first contours which is python list of coordinates, \n",
    "#          heirarchies of contours likes shape trinagle inside sqare,\n",
    "contours, heirarchies = cv.findContours(thresh, cv.RETR_LIST, cv.CHAIN_APPROX_SIMPLE)\n",
    "print(f'{len(contours)} contours found in img')\n",
    "\n",
    "# Draw contours on blank image to know what kinds of contours we get\n",
    "# format: use drawContours(Image to be drawn on, List of Contours, contours index i.e How many contours(-1 means all),    \n",
    "#         color to be drawn, thickness\n",
    "cv.drawContours(blank, contours, -1, (0,0,255), thickness = 1)\n",
    "cv.imshow('Contours Drawn', blank)\n",
    "\n",
    "cv.waitKey(0)"
   ]
  },
  {
   "cell_type": "code",
   "execution_count": null,
   "metadata": {},
   "outputs": [],
   "source": []
  }
 ],
 "metadata": {
  "kernelspec": {
   "display_name": "Python 3",
   "language": "python",
   "name": "python3"
  },
  "language_info": {
   "codemirror_mode": {
    "name": "ipython",
    "version": 3
   },
   "file_extension": ".py",
   "mimetype": "text/x-python",
   "name": "python",
   "nbconvert_exporter": "python",
   "pygments_lexer": "ipython3",
   "version": "3.7.9"
  }
 },
 "nbformat": 4,
 "nbformat_minor": 4
}
