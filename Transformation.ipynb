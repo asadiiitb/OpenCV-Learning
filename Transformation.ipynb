{
 "cells": [
  {
   "cell_type": "code",
   "execution_count": 1,
   "metadata": {},
   "outputs": [],
   "source": [
    "# Translation\n",
    "# Rotation\n",
    "# Flip\n",
    "# Resize"
   ]
  },
  {
   "cell_type": "code",
   "execution_count": 1,
   "metadata": {},
   "outputs": [],
   "source": [
    "import cv2 as cv\n",
    "import numpy as np"
   ]
  },
  {
   "cell_type": "code",
   "execution_count": 2,
   "metadata": {},
   "outputs": [],
   "source": [
    "# Normal Image\n",
    "img = cv.imread('Resources/Photos/park.jpg')\n",
    "cv.imshow('Park', img)\n",
    "\n",
    "# Translation\n",
    "# format translate(image, number of pixels to shift along x axis, number of pixels to shift along y axis)\n",
    "# We will use a Translation Matrix for it of size [1,0,x], [0,1,y]\n",
    "# -x --> Move Left  \n",
    "# +x --> Move right\n",
    "# -y --> Move UP\n",
    "# +y --> Move Down \n",
    "def translate(img, x, y):\n",
    "    transMat = np.float32([[1,0,x],[0,1,y]])\n",
    "    dimensions = (img.shape[1], img.shape[0])\n",
    "    return cv.warpAffine(img, transMat, dimensions)\n",
    "\n",
    "#translated = translate(img, -150, 50)\n",
    "#cv.imshow('Translated', translated)\n",
    "\n",
    "# Rotation : Around a point\n",
    "def rotate(img, angle, rotPoint = None):\n",
    "    height, width = img.shape[:2]\n",
    "    if rotPoint = None: # Rotate around center\n",
    "        rotPoint = (width // 2, height // 2)\n",
    "    \n",
    "    "
   ]
  },
  {
   "cell_type": "code",
   "execution_count": null,
   "metadata": {},
   "outputs": [],
   "source": []
  }
 ],
 "metadata": {
  "kernelspec": {
   "display_name": "Python 3",
   "language": "python",
   "name": "python3"
  },
  "language_info": {
   "codemirror_mode": {
    "name": "ipython",
    "version": 3
   },
   "file_extension": ".py",
   "mimetype": "text/x-python",
   "name": "python",
   "nbconvert_exporter": "python",
   "pygments_lexer": "ipython3",
   "version": "3.7.9"
  }
 },
 "nbformat": 4,
 "nbformat_minor": 4
}
