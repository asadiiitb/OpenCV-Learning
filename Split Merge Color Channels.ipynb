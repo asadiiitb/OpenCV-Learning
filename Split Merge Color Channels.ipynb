{
 "cells": [
  {
   "cell_type": "code",
   "execution_count": 4,
   "metadata": {},
   "outputs": [],
   "source": [
    "import cv2 as cv\n",
    "import numpy as np"
   ]
  },
  {
   "cell_type": "code",
   "execution_count": 3,
   "metadata": {},
   "outputs": [
    {
     "name": "stdout",
     "output_type": "stream",
     "text": [
      "(427, 640, 3)\n",
      "(427, 640)\n",
      "(427, 640)\n",
      "(427, 640)\n"
     ]
    },
    {
     "data": {
      "text/plain": [
       "-1"
      ]
     },
     "execution_count": 3,
     "metadata": {},
     "output_type": "execute_result"
    }
   ],
   "source": [
    "img = cv.imread('Resources\\Photos\\park.jpg')\n",
    "cv.imshow('Park', img)\n",
    "\n",
    "# Split BGR image into b,g,r channels \n",
    "b,g,r = cv.split(img)\n",
    "\n",
    "# It will show pixel intencity, Where ther is light color means high blue value at that pixel\n",
    "# Where it is dark, there we have less blue value at that pixel (Applies for all channels)\n",
    "cv.imshow('Blue', b)\n",
    "cv.imshow('Green', g)\n",
    "cv.imshow('Red', r)\n",
    "\n",
    "print(img.shape)\n",
    "print(b.shape)\n",
    "print(g.shape)\n",
    "print(r.shape)\n",
    "\n",
    "# Merge color channels\n",
    "# format = cv.merge(list of channels)\n",
    "merged = cv.merge([b,g,r])\n",
    "cv.imshow(\"Merged BGR\", merged)\n",
    "# RGB merge\n",
    "merged_rgb = cv.merge([r,g,b])\n",
    "cv.imshow(\"Merged RGB\", merged_rgb)\n",
    "\n",
    "\n",
    "\n",
    "cv.waitKey(0)\n"
   ]
  },
  {
   "cell_type": "code",
   "execution_count": 5,
   "metadata": {},
   "outputs": [
    {
     "name": "stdout",
     "output_type": "stream",
     "text": [
      "(427, 640, 3)\n",
      "(427, 640)\n",
      "(427, 640)\n",
      "(427, 640)\n"
     ]
    },
    {
     "data": {
      "text/plain": [
       "-1"
      ]
     },
     "execution_count": 5,
     "metadata": {},
     "output_type": "execute_result"
    }
   ],
   "source": [
    "img = cv.imread('Resources\\Photos\\park.jpg')\n",
    "cv.imshow('Park', img)\n",
    "\n",
    "# blank image\n",
    "blank = np.zeros(img.shape[:2], dtype = 'uint8')\n",
    "# Split BGR image into b,g,r channels \n",
    "b,g,r = cv.split(img)\n",
    "\n",
    "blue = cv.merge([b, blank, blank])\n",
    "green = cv.merge([blank, g, blank])\n",
    "red = cv.merge([blank, blank, r])\n",
    "\n",
    "# It will show pixel intencity, Where ther is light color means high blue value at that pixel\n",
    "# Where it is dark, there we have less blue value at that pixel (Applies for all channels)\n",
    "cv.imshow('Blue', blue)\n",
    "cv.imshow('Green', green)\n",
    "cv.imshow('Red', red)\n",
    "\n",
    "print(img.shape)\n",
    "print(b.shape)\n",
    "print(g.shape)\n",
    "print(r.shape)\n",
    "\n",
    "# Merge color channels\n",
    "# format = cv.merge(list of channels)\n",
    "merged = cv.merge([b,g,r])\n",
    "cv.imshow(\"Merged BGR\", merged)\n",
    "\n",
    "cv.waitKey(0)\n"
   ]
  },
  {
   "cell_type": "code",
   "execution_count": null,
   "metadata": {},
   "outputs": [],
   "source": []
  }
 ],
 "metadata": {
  "kernelspec": {
   "display_name": "Python 3",
   "language": "python",
   "name": "python3"
  },
  "language_info": {
   "codemirror_mode": {
    "name": "ipython",
    "version": 3
   },
   "file_extension": ".py",
   "mimetype": "text/x-python",
   "name": "python",
   "nbconvert_exporter": "python",
   "pygments_lexer": "ipython3",
   "version": "3.7.9"
  }
 },
 "nbformat": 4,
 "nbformat_minor": 4
}
