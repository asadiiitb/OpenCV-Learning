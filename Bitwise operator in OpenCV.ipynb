{
 "cells": [
  {
   "cell_type": "code",
   "execution_count": 1,
   "metadata": {},
   "outputs": [],
   "source": [
    "# There are basic 4 bitwise operators in openCV\n",
    "# And, OR, XOR and NOT\n",
    "import cv2 as cv\n",
    "import numpy as np"
   ]
  },
  {
   "cell_type": "code",
   "execution_count": 2,
   "metadata": {},
   "outputs": [
    {
     "data": {
      "text/plain": [
       "-1"
      ]
     },
     "execution_count": 2,
     "metadata": {},
     "output_type": "execute_result"
    }
   ],
   "source": [
    "blank = np.zeros((400,400), dtype = 'uint8') # binary blank image\n",
    "\n",
    "rectangle = cv.rectangle(blank.copy(), (30, 30), (370, 370), 255, -1)\n",
    "\n",
    "circle = cv.circle(blank.copy(), (200,200), 200, 255, -1)\n",
    "\n",
    "cv.imshow('Rectangle', rectangle)\n",
    "cv.imshow('Circle', circle)\n",
    "# Wont work for different size of image and works on intencity value min or max\n",
    "\n",
    "# bitwise And : Intersecting regions \n",
    "bitwise_and = cv.bitwise_and(circle, rectangle)\n",
    "cv.imshow('Bitwise AND', bitwise_and)\n",
    "\n",
    "# Bitwise_OR : Non intersecting resgions, and intersecting regions : union of intensity\n",
    "bitwise_or = cv.bitwise_or(circle, rectangle)\n",
    "cv.imshow('Bitwise OR', bitwise_or)\n",
    "\n",
    "# Bitwise_XOR : Non intersecting regions\n",
    "bitwise_xor = cv.bitwise_xor(circle, rectangle)\n",
    "cv.imshow('Bitwise XOR', bitwise_xor)\n",
    "\n",
    "#Bitwise NOT L Inverts binary color\n",
    "bitwise_not = cv.bitwise_not(circle)\n",
    "cv.imshow('Bitwise not of circle', bitwise_not)\n",
    "\n",
    "cv.waitKey(0)\n"
   ]
  },
  {
   "cell_type": "code",
   "execution_count": null,
   "metadata": {},
   "outputs": [],
   "source": []
  },
  {
   "cell_type": "code",
   "execution_count": null,
   "metadata": {},
   "outputs": [],
   "source": []
  }
 ],
 "metadata": {
  "kernelspec": {
   "display_name": "Python 3",
   "language": "python",
   "name": "python3"
  },
  "language_info": {
   "codemirror_mode": {
    "name": "ipython",
    "version": 3
   },
   "file_extension": ".py",
   "mimetype": "text/x-python",
   "name": "python",
   "nbconvert_exporter": "python",
   "pygments_lexer": "ipython3",
   "version": "3.7.9"
  }
 },
 "nbformat": 4,
 "nbformat_minor": 4
}
