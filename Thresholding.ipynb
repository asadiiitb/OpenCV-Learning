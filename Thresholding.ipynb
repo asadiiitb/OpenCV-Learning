{
 "cells": [
  {
   "cell_type": "code",
   "execution_count": 7,
   "metadata": {},
   "outputs": [],
   "source": [
    "# Two types of Thresholding:\n",
    "# 1) Simple Thresholding\n",
    "# 2) Adaptive Thresholding\n",
    "import cv2 as cv\n",
    "import numpy as np"
   ]
  },
  {
   "cell_type": "code",
   "execution_count": 14,
   "metadata": {},
   "outputs": [
    {
     "data": {
      "text/plain": [
       "-1"
      ]
     },
     "execution_count": 14,
     "metadata": {},
     "output_type": "execute_result"
    }
   ],
   "source": [
    "# Simple Threshold\n",
    "img = cv.imread('Resources/Photos/cats.jpg')\n",
    "cv.imshow('Cats', img)\n",
    "\n",
    "# Convert to gray\n",
    "gray = cv.cvtColor(img, cv.COLOR_BGR2GRAY)\n",
    "cv.imshow('Gray', gray)\n",
    "\n",
    "# Simple Thresholding\n",
    "# Format : cv.threshold(src image, threshold intensity, target intensity if yes else '0', threshold mode)\n",
    "# returns threshold: threshold value we passed, thresh: the thresholded image\n",
    "threshold, thresh = cv.threshold(gray, 150, 255, cv.THRESH_BINARY)\n",
    "cv.imshow('Simple Thresholded Image', thresh)\n",
    "\n",
    "# Inverse thresholded image\n",
    "threshold, thresh_inv = cv.threshold(gray, 150, 255, cv.THRESH_BINARY_INV)\n",
    "cv.imshow('Simple Thresholded INV', thresh_inv)\n",
    "\n",
    "# Adaptive Thresholding : Let system automatically find the optimal thresholded value\n",
    "# Then using that optimal threshold, it binarises the image\n",
    "# format : cv.adaptiveThresh(src image, target intensity value, threshold method to find the optimal threshold,\n",
    "#          Mode of thresholding or threshold type, BlockSize or kernel size, C value)\n",
    "adaptive_thresh = cv.adaptiveThreshold(gray, 255, cv.ADAPTIVE_THRESH_MEAN_C, cv.THRESH_BINARY_INV, 11, 0)\n",
    "cv.imshow('Adaptive thresholding', adaptive_thresh)\n",
    "\n",
    "adaptive_threshg = cv.adaptiveThreshold(gray, 255, cv.ADAPTIVE_THRESH_GAUSSIAN_C, cv.THRESH_BINARY_INV, 11, 9)\n",
    "cv.imshow('Adaptive GAussian thresholding', adaptive_threshg)\n",
    "\n",
    "\n",
    "cv.waitKey(0)"
   ]
  },
  {
   "cell_type": "code",
   "execution_count": 10,
   "metadata": {},
   "outputs": [
    {
     "data": {
      "text/plain": [
       "-1"
      ]
     },
     "execution_count": 10,
     "metadata": {},
     "output_type": "execute_result"
    }
   ],
   "source": [
    "# Adaptive Thresholding : Let system automatically find the optimal thresholded value\n",
    "# Then using that optimal threshold, it binarises the image\n",
    "# format : cv.adaptiveThresh(src image, target intensity value, threshold method to find the optimal threshold,\n",
    "#          Mode of thresholding or threshold type, BlockSize or kernel size, C value)\n",
    "adaptive_thresh = cv.adaptiveThreshold(gray, 255, cv.ADAPTIVE_THRESH_MEAN_C, cv.THRESH_BINARY, 11, 0)\n",
    "cv.imshow('Adaptive thresholding', adaptive_thresh)\n",
    "\n",
    "cv.waitKey(0)\n"
   ]
  },
  {
   "cell_type": "code",
   "execution_count": null,
   "metadata": {},
   "outputs": [],
   "source": []
  }
 ],
 "metadata": {
  "kernelspec": {
   "display_name": "Python 3",
   "language": "python",
   "name": "python3"
  },
  "language_info": {
   "codemirror_mode": {
    "name": "ipython",
    "version": 3
   },
   "file_extension": ".py",
   "mimetype": "text/x-python",
   "name": "python",
   "nbconvert_exporter": "python",
   "pygments_lexer": "ipython3",
   "version": "3.7.9"
  }
 },
 "nbformat": 4,
 "nbformat_minor": 4
}
