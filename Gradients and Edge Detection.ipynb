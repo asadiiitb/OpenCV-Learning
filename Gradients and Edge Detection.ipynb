{
 "cells": [
  {
   "cell_type": "code",
   "execution_count": 2,
   "metadata": {},
   "outputs": [],
   "source": [
    "import cv2 as cv\n",
    "import numpy as np"
   ]
  },
  {
   "cell_type": "code",
   "execution_count": 4,
   "metadata": {},
   "outputs": [
    {
     "data": {
      "text/plain": [
       "-1"
      ]
     },
     "execution_count": 4,
     "metadata": {},
     "output_type": "execute_result"
    }
   ],
   "source": [
    "img = cv.imread('Resources/Photos/park.jpg')\n",
    "cv.imshow('Cats', img)\n",
    "\n",
    "# Edge detection using 3 ways \n",
    "# 1) Canny\n",
    "# 2) Laplacian\n",
    "# 3) Sobel Gradient Magnitude representation\n",
    "\n",
    "# Laplacian Method\n",
    "\n",
    "gray = cv.cvtColor(img, cv.COLOR_BGR2GRAY)\n",
    "cv.imshow('Gray', gray)\n",
    "# Laplacian\n",
    "# Format : cv.Laplacian(src image , ddepth : data depth) \n",
    "lap = cv.Laplacian(gray, cv.CV_64F) \n",
    "lap = np.uint8(np.absolute(lap)) # It goes whitke to black and then black to white \n",
    "#                                  thats why we need absolute value as pixels cant have negative values \n",
    "cv.imshow('Laplacian', lap)\n",
    "\n",
    "# Sobel Gradient Distribution representation : it calculates gradient in 2 directions x and y\n",
    "# gradients across x axis\n",
    "sobelx = cv.Sobel(gray, cv.CV_64F, 1, 0)\n",
    "# gradients across y axis\n",
    "sobely = cv.Sobel(gray, cv.CV_64F, 0, 1)\n",
    "\n",
    "# we can combine these by sobelx and sobel y\n",
    "combined_sobel = cv.bitwise_or(sobelx, sobely)\n",
    "\n",
    "cv.imshow('Sobel X', sobelx)\n",
    "cv.imshow('Sobel Y', sobely)\n",
    "cv.imshow('Combined Sobel', combined_sobel)\n",
    "\n",
    "# Canny image detector : Most advanced, It uses sobel in one of its images\n",
    "canny = cv.Canny(gray, 135, 175)\n",
    "cv.imshow('Canny', canny)\n",
    "\n",
    "cv.waitKey(0)"
   ]
  },
  {
   "cell_type": "code",
   "execution_count": null,
   "metadata": {},
   "outputs": [],
   "source": []
  }
 ],
 "metadata": {
  "kernelspec": {
   "display_name": "Python 3",
   "language": "python",
   "name": "python3"
  },
  "language_info": {
   "codemirror_mode": {
    "name": "ipython",
    "version": 3
   },
   "file_extension": ".py",
   "mimetype": "text/x-python",
   "name": "python",
   "nbconvert_exporter": "python",
   "pygments_lexer": "ipython3",
   "version": "3.7.9"
  }
 },
 "nbformat": 4,
 "nbformat_minor": 4
}
