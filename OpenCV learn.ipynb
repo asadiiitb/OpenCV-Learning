{
 "cells": [
  {
   "cell_type": "code",
   "execution_count": 1,
   "metadata": {},
   "outputs": [],
   "source": [
    "import cv2 as cv"
   ]
  },
  {
   "cell_type": "code",
   "execution_count": null,
   "metadata": {},
   "outputs": [],
   "source": [
    "# imread to read the image \n",
    "# format:  cv2.imread(#Give path in single qotes)\n",
    "# Save in a variable\n",
    "img = cv.imread('Resources\\Photos\\cat_large.jpg')\n",
    "\n",
    "# To display image in a new window use imshow\n",
    "# format: cv.imshow('winname', imagvariable)\n",
    "# cv.imshow( First parameter is window name in qotes, 2nd patamer is image variable)\n",
    "cv.imshow('CatPicLarge', img)\n",
    "\n",
    "#For waiting\n",
    "# 0 indicates infinite wait\n",
    "cv.waitKey(0)\n"
   ]
  },
  {
   "cell_type": "code",
   "execution_count": null,
   "metadata": {},
   "outputs": [],
   "source": [
    "# Read A video frame by frame and display each fram\n",
    "# format : cv2.VideoCapture(int or path of video)\n",
    "# if int 0 means systems webcam , 1 means associated camera\n",
    "# it will give an instance of video \n",
    "capture = cv.VideoCapture('Resources\\Videos\\dog.mp4')\n",
    "\n",
    "# Infinite loop to play video\n",
    "while True:\n",
    "    #isTrue will help in checking wether frame received properly or not\n",
    "    # frame will have the address of current frame of video\n",
    "    isTrue, frame = capture.read()\n",
    "    \n",
    "    #Take each frame of video and display it\n",
    "    cv.imshow('VideoByFrames', frame)\n",
    "    # Exit when d is pressed\n",
    "    if cv.waitKey(20) & 0xFF == ord('d'):\n",
    "        break;\n",
    "\n",
    "#Freeup the instance\n",
    "capture.release()\n",
    "# Delete all windows\n",
    "cv.destroyAllWindows()\n",
    "#-215 : Assertion error Normally means it could not find the file \n",
    "# It could also happen after all the frames are shown it could not find more frames"
   ]
  },
  {
   "cell_type": "code",
   "execution_count": null,
   "metadata": {},
   "outputs": [],
   "source": [
    "#Try for webcama\n",
    "capture = cv.VideoCapture(0)\n",
    "\n",
    "# Infinite loop to play video\n",
    "while True:\n",
    "    isTrue, frame = capture.read()\n",
    "    \n",
    "    #Take each frame of video and display it\n",
    "    cv.imshow('VideoByFrames', frame)\n",
    "    # Exit when d is pressed\n",
    "    if cv.waitKey(20) & 0xFF == ord('d'):\n",
    "        break;\n",
    "\n",
    "#Freeup the instance\n",
    "capture.release()\n",
    "# Delete all windows\n",
    "cv.destroyAllWindows()\n",
    "#-215 : Assertion error Normally means it could not find the file \n",
    "# It could also happen after all the frames are shown it could not find more frames"
   ]
  },
  {
   "cell_type": "code",
   "execution_count": null,
   "metadata": {},
   "outputs": [],
   "source": [
    "#Lets try rescaleing an image\n",
    "\n",
    "# Function to rescale a video by rescaling each frame\n",
    "def rescaleFrame(frame, scale = 0.6):\n",
    "    # Works for image, video, live camera\n",
    "    height = int(frame.shape[0] * scale)\n",
    "    width = int(frame.shape[1] * scale)\n",
    "    # Save dimensions as tuple\n",
    "    dimensions = (width, height)\n",
    "    # return the resized frame\n",
    "    # format: for resize \n",
    "    # cv.resize( path, or frame, dimensions)\n",
    "    # Use of interpolation = ? \n",
    "    return cv.resize(frame, dimensions, interpolation = cv.INTER_AREA)\n",
    "\n",
    "img = cv.imread('Resources\\Photos\\cat_large.jpg')\n",
    "\n",
    "cv.imshow('CatPicLarge', img)\n",
    "resized_image = rescaleFrame(img, scale = 0.13)\n",
    "cv.imshow('ResizedCatImage', resized_image)\n",
    "cv.waitKey(0)\n"
   ]
  },
  {
   "cell_type": "code",
   "execution_count": null,
   "metadata": {},
   "outputs": [],
   "source": [
    "#Lets try rescaleing a video\n",
    "\n",
    "# Function to rescale a video by rescaling each frame\n",
    "def rescaleFrame(frame, scale = 0.6):\n",
    "    # Works for image, video, live camera\n",
    "    height = int(frame.shape[0] * scale)\n",
    "    width = int(frame.shape[1] * scale)\n",
    "    # Save dimensions as tuple\n",
    "    dimensions = (width, height)\n",
    "    # return the resized frame\n",
    "    # format: for resize \n",
    "    # cv.resize( path, or frame, dimensions)\n",
    "    # Use of interpolation = ? \n",
    "    return cv.resize(frame, dimensions, interpolation = cv.INTER_AREA)\n",
    "\n",
    "\n",
    "capture = cv.VideoCapture('Resources\\Videos\\dog.mp4')\n",
    "#capture = cv.VideoCapture(0)\n",
    "# Infinite loop to play video\n",
    "while True:\n",
    "    isTrue, frame = capture.read()\n",
    "    #rescale frame by calling to function\n",
    "    recized_frame = rescaleFrame(frame, scale = 0.25)\n",
    "    #Take each frame of video and display it\n",
    "    cv.imshow('VideoByFrames', frame)\n",
    "    cv.imshow('RescaledVideo', recized_frame)\n",
    "    # Exit when d is pressed\n",
    "    if cv.waitKey(20) & 0xFF == ord('d'):\n",
    "        break;\n",
    "\n",
    "#Freeup the instance\n",
    "capture.release()\n",
    "# Delete all windows\n",
    "cv.destroyAllWindows()"
   ]
  },
  {
   "cell_type": "code",
   "execution_count": 2,
   "metadata": {},
   "outputs": [
    {
     "ename": "error",
     "evalue": "OpenCV(4.5.1) C:\\Users\\appveyor\\AppData\\Local\\Temp\\1\\pip-req-build-r2ue8w6k\\opencv\\modules\\highgui\\src\\window.cpp:376: error: (-215:Assertion failed) size.width>0 && size.height>0 in function 'cv::imshow'\n",
     "output_type": "error",
     "traceback": [
      "\u001b[1;31m---------------------------------------------------------------------------\u001b[0m",
      "\u001b[1;31merror\u001b[0m                                     Traceback (most recent call last)",
      "\u001b[1;32m<ipython-input-2-90d87d22b8cf>\u001b[0m in \u001b[0;36m<module>\u001b[1;34m\u001b[0m\n\u001b[0;32m     16\u001b[0m     \u001b[0mrecized_frame\u001b[0m \u001b[1;33m=\u001b[0m \u001b[0mchangeRes\u001b[0m\u001b[1;33m(\u001b[0m\u001b[0mframe\u001b[0m\u001b[1;33m.\u001b[0m\u001b[0mshape\u001b[0m\u001b[1;33m[\u001b[0m\u001b[1;36m0\u001b[0m\u001b[1;33m]\u001b[0m\u001b[1;33m,\u001b[0m \u001b[0mframe\u001b[0m\u001b[1;33m.\u001b[0m\u001b[0mshape\u001b[0m\u001b[1;33m[\u001b[0m\u001b[1;36m1\u001b[0m\u001b[1;33m]\u001b[0m\u001b[1;33m)\u001b[0m\u001b[1;33m\u001b[0m\u001b[1;33m\u001b[0m\u001b[0m\n\u001b[0;32m     17\u001b[0m     \u001b[1;31m#Take each frame of video and display it\u001b[0m\u001b[1;33m\u001b[0m\u001b[1;33m\u001b[0m\u001b[1;33m\u001b[0m\u001b[0m\n\u001b[1;32m---> 18\u001b[1;33m     \u001b[0mcv\u001b[0m\u001b[1;33m.\u001b[0m\u001b[0mimshow\u001b[0m\u001b[1;33m(\u001b[0m\u001b[1;34m'RescaledwdVideo'\u001b[0m\u001b[1;33m,\u001b[0m \u001b[0mrecized_frame\u001b[0m\u001b[1;33m)\u001b[0m\u001b[1;33m\u001b[0m\u001b[1;33m\u001b[0m\u001b[0m\n\u001b[0m\u001b[0;32m     19\u001b[0m     \u001b[1;31m# Exit when d is pressed\u001b[0m\u001b[1;33m\u001b[0m\u001b[1;33m\u001b[0m\u001b[1;33m\u001b[0m\u001b[0m\n\u001b[0;32m     20\u001b[0m     \u001b[1;32mif\u001b[0m \u001b[0mcv\u001b[0m\u001b[1;33m.\u001b[0m\u001b[0mwaitKey\u001b[0m\u001b[1;33m(\u001b[0m\u001b[1;36m20\u001b[0m\u001b[1;33m)\u001b[0m \u001b[1;33m&\u001b[0m \u001b[1;36m0xFF\u001b[0m \u001b[1;33m==\u001b[0m \u001b[0mord\u001b[0m\u001b[1;33m(\u001b[0m\u001b[1;34m'd'\u001b[0m\u001b[1;33m)\u001b[0m\u001b[1;33m:\u001b[0m\u001b[1;33m\u001b[0m\u001b[1;33m\u001b[0m\u001b[0m\n",
      "\u001b[1;31merror\u001b[0m: OpenCV(4.5.1) C:\\Users\\appveyor\\AppData\\Local\\Temp\\1\\pip-req-build-r2ue8w6k\\opencv\\modules\\highgui\\src\\window.cpp:376: error: (-215:Assertion failed) size.width>0 && size.height>0 in function 'cv::imshow'\n"
     ]
    }
   ],
   "source": [
    "def changeRes(width, height):\n",
    "    #Works for live Video only\n",
    "    #set returns true if work done else false\n",
    "    capture.set(3, width) # 3 refrences width \n",
    "    capture.set(4, height) # 4 refrences height\n",
    "    #10 refrences brightness\n",
    "    #capture.set(10, 0)\n",
    "    \n",
    "#Try for webcamera\n",
    "capture = cv.VideoCapture(0)\n",
    "\n",
    "# Infinite loop to play video\n",
    "while True:\n",
    "    isTrue, frame = capture.read()\n",
    "    \n",
    "    recized_frame = changeRes(frame.shape[0], frame.shape[1])\n",
    "    #Take each frame of video and display it\n",
    "    cv.imshow('RescaledwdVideo', recized_frame)\n",
    "    # Exit when d is pressed\n",
    "    if cv.waitKey(20) & 0xFF == ord('d'):\n",
    "        break;\n",
    "\n",
    "#Freeup the instance\n",
    "capture.release()\n",
    "# Delete all windows\n",
    "cv.destroyAllWindows()\n",
    "#-215 : Assertion error Normally means it could not find the file \n",
    "# It could also happen after all the frames are shown it could not find more frames"
   ]
  },
  {
   "cell_type": "code",
   "execution_count": null,
   "metadata": {},
   "outputs": [],
   "source": []
  },
  {
   "cell_type": "code",
   "execution_count": null,
   "metadata": {},
   "outputs": [],
   "source": []
  },
  {
   "cell_type": "code",
   "execution_count": null,
   "metadata": {},
   "outputs": [],
   "source": []
  }
 ],
 "metadata": {
  "kernelspec": {
   "display_name": "Python 3",
   "language": "python",
   "name": "python3"
  },
  "language_info": {
   "codemirror_mode": {
    "name": "ipython",
    "version": 3
   },
   "file_extension": ".py",
   "mimetype": "text/x-python",
   "name": "python",
   "nbconvert_exporter": "python",
   "pygments_lexer": "ipython3",
   "version": "3.7.9"
  }
 },
 "nbformat": 4,
 "nbformat_minor": 4
}
