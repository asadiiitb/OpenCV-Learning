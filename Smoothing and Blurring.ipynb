{
 "cells": [
  {
   "cell_type": "code",
   "execution_count": 1,
   "metadata": {},
   "outputs": [],
   "source": [
    "# Smoothing is done For reducing or eliminating noice in image"
   ]
  },
  {
   "cell_type": "code",
   "execution_count": 2,
   "metadata": {},
   "outputs": [],
   "source": [
    "import cv2 as cv\n",
    "import numpy as np"
   ]
  },
  {
   "cell_type": "code",
   "execution_count": 6,
   "metadata": {},
   "outputs": [
    {
     "data": {
      "text/plain": [
       "-1"
      ]
     },
     "execution_count": 6,
     "metadata": {},
     "output_type": "execute_result"
    }
   ],
   "source": [
    "img = cv.imread('Resources\\Photos\\cats.jpg')\n",
    "cv.imshow('Cats', img)\n",
    "\n",
    "# Averaging : it just averages out the surrouding pixels\n",
    "# It works by window moving left first then moving down and repeating left moment \n",
    "blur = cv.blur(img, (7,5))\n",
    "cv.imshow('Averaging blur', blur)\n",
    "\n",
    "# Gaussian Blur\n",
    "# parameters : image, kernel size, standard deviation along x axis\n",
    "gaussian = cv.GaussianBlur(img, (5,7), 0)\n",
    "cv.imshow('Gaussian Blur', gaussian)\n",
    "\n",
    "# Median Blur : Its like averaging but instead of average it takes out the median\n",
    "# format : here instead of tuple for kernel size it takes it as int as at the end convers int to tuple of (int, int)\n",
    "# Not meant to be used with lare kernels\n",
    "median = cv.medianBlur(img, 5)\n",
    "cv.imshow('Median Blur', median)\n",
    "\n",
    "# Bilateral Blur : Till now each bluring technique works on the pixels no one considers edges,\n",
    "# Bilateral blur considers 'edges', \n",
    "# \"It blurs the image by retaining the edges\"\n",
    "# It is most effective and used in many large cv projects\n",
    "# format: cv.BilateralBlur(image, diameter of pixel namehood, Sigma color: More number of colors considered when blur is computed,\n",
    "#          Space sigma : large value means pixel far away will influence the blur of current pixel)\n",
    "bilateral = cv.bilateralFilter(img, 10, 25, 20)\n",
    "cv.imshow('Bilateral Blur', bilateral)\n",
    "\n",
    "\n",
    "\n",
    "\n",
    "\n",
    "cv.waitKey(0)"
   ]
  },
  {
   "cell_type": "code",
   "execution_count": null,
   "metadata": {},
   "outputs": [],
   "source": []
  }
 ],
 "metadata": {
  "kernelspec": {
   "display_name": "Python 3",
   "language": "python",
   "name": "python3"
  },
  "language_info": {
   "codemirror_mode": {
    "name": "ipython",
    "version": 3
   },
   "file_extension": ".py",
   "mimetype": "text/x-python",
   "name": "python",
   "nbconvert_exporter": "python",
   "pygments_lexer": "ipython3",
   "version": "3.7.9"
  }
 },
 "nbformat": 4,
 "nbformat_minor": 4
}
